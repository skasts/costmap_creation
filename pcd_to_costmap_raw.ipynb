{
 "cells": [
  {
   "cell_type": "code",
   "execution_count": 1,
   "metadata": {},
   "outputs": [
    {
     "name": "stdout",
     "output_type": "stream",
     "text": [
      "Jupyter environment detected. Enabling Open3D WebVisualizer.\n",
      "[Open3D INFO] WebRTC GUI backend enabled.\n",
      "[Open3D INFO] WebRTCWindowSystem: HTTP handshake server disabled.\n"
     ]
    }
   ],
   "source": [
    "import open3d as o3d\n",
    "import numpy as np\n",
    "from PIL import Image"
   ]
  },
  {
   "cell_type": "code",
   "execution_count": 2,
   "metadata": {},
   "outputs": [],
   "source": [
    "def pointcloud_to_birdseye(pcd_file, resolution, output_file, boundary, height_window):\n",
    "    # Load the PCD file\n",
    "    pcd = o3d.io.read_point_cloud(pcd_file)\n",
    "    points = np.asarray(pcd.points)\n",
    "\n",
    "    # Cut off points outside a certain rectangle\n",
    "    points = points[(points[:, 0] > boundary[0]) & (points[:, 0] < boundary[1])]\n",
    "    points = points[(points[:, 1] > boundary[2]) & (points[:, 1] < boundary[3])]\n",
    "\n",
    "    # Cut off points outside a certain height window\n",
    "    points = points[(points[:, 2] > height_window[0]) & (points[:, 2] < height_window[1])]\n",
    "    \n",
    "    # Transform to bird's-eye view\n",
    "    bev_points = points[:, :2]  # Remove Z-axis information\n",
    "\n",
    "    # Define the grid parameters\n",
    "    min_x = np.min(bev_points[:, 0])\n",
    "    min_y = np.min(bev_points[:, 1])\n",
    "    max_x = np.max(bev_points[:, 0])\n",
    "    max_y = np.max(bev_points[:, 1])\n",
    "    range_x = max_x - min_x\n",
    "    range_y = max_y - min_y\n",
    "\n",
    "    # Map the points to the grid\n",
    "    grid_size = int(max(range_x, range_y) / resolution)\n",
    "    bev_grid = np.zeros((grid_size + 1, grid_size + 1))  # Increase size by 1\n",
    "\n",
    "    for point in bev_points:\n",
    "        x = int((point[0] - min_x) / range_x * grid_size)\n",
    "        y = int((point[1] - min_y) / range_y * grid_size)\n",
    "        bev_grid[y, x] += 1\n",
    "\n",
    "    # Generate the bird's-eye view image\n",
    "    image = Image.fromarray(bev_grid.astype(np.uint8) * 255)\n",
    "\n",
    "    # Save the processed image as PNG\n",
    "    image.save(output_file)"
   ]
  },
  {
   "cell_type": "code",
   "execution_count": 4,
   "metadata": {},
   "outputs": [],
   "source": [
    "# Input pcd and output png file\n",
    "pcd_file = \"pcd/Town05.pcd\"\n",
    "output_file = \"bev_images/Town05.png\"\n",
    "# Resolution of the grid in meters\n",
    "resolution = 0.05\n",
    "# Cut off boundary and height window\n",
    "boundary = [-100, 100, -100, 100]\n",
    "height_window = [0.1, 1.0]\n",
    "\n",
    "# Call the function and save the image\n",
    "pointcloud_to_birdseye(pcd_file, resolution, output_file, boundary, height_window)"
   ]
  },
  {
   "cell_type": "code",
   "execution_count": null,
   "metadata": {},
   "outputs": [],
   "source": []
  }
 ],
 "metadata": {
  "kernelspec": {
   "display_name": "Python 3",
   "language": "python",
   "name": "python3"
  },
  "language_info": {
   "codemirror_mode": {
    "name": "ipython",
    "version": 3
   },
   "file_extension": ".py",
   "mimetype": "text/x-python",
   "name": "python",
   "nbconvert_exporter": "python",
   "pygments_lexer": "ipython3",
   "version": "3.8.10"
  },
  "orig_nbformat": 4
 },
 "nbformat": 4,
 "nbformat_minor": 2
}
