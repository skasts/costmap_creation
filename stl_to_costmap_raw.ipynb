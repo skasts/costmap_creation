{
 "cells": [
  {
   "cell_type": "code",
   "execution_count": 8,
   "metadata": {},
   "outputs": [],
   "source": [
    "import numpy as np\n",
    "from PIL import Image\n",
    "from stl import mesh\n",
    "from PIL import Image"
   ]
  },
  {
   "cell_type": "code",
   "execution_count": 24,
   "metadata": {},
   "outputs": [],
   "source": [
    "def stl_to_birdseye(stl_file, resolution, output_file, boundary, height_window):\n",
    "    # Load the STL file and create a mesh object\n",
    "    mesh_data = mesh.Mesh.from_file(stl_file)\n",
    "\n",
    "    # Convert the mesh vertices to a point cloud\n",
    "    points = mesh_data.vectors.reshape(-1, 3)\n",
    "\n",
    "    # Cut off points outside a certain rectangle\n",
    "    points = points[(points[:, 0] > boundary[0]) & (points[:, 0] < boundary[1])]\n",
    "    points = points[(points[:, 1] > boundary[2]) & (points[:, 1] < boundary[3])]\n",
    "\n",
    "    # Cut off points outside a certain height window\n",
    "    points = points[(points[:, 2] > height_window[0]) & (points[:, 2] < height_window[1])]\n",
    "    \n",
    "    # Transform to bird's-eye view\n",
    "    bev_points = points[:, :2]  # Remove Z-axis information\n",
    "\n",
    "    # Define the grid parameters\n",
    "    min_x = np.min(bev_points[:, 0])\n",
    "    min_y = np.min(bev_points[:, 1])\n",
    "    max_x = np.max(bev_points[:, 0])\n",
    "    max_y = np.max(bev_points[:, 1])\n",
    "    range_x = max_x - min_x\n",
    "    range_y = max_y - min_y\n",
    "\n",
    "    # Calculate the grid size based on the range of coordinates\n",
    "    grid_size_x = int(range_x / resolution) + 1\n",
    "    grid_size_y = int(range_y / resolution) + 1\n",
    "\n",
    "    # Map the points to the grid with intensity mapping\n",
    "    bev_grid = np.zeros((grid_size_y, grid_size_x))\n",
    "\n",
    "    for point in bev_points:\n",
    "        x = int((point[0] - min_x) / range_x * (grid_size_x - 1))\n",
    "        y = int((point[1] - min_y) / range_y * (grid_size_y - 1))\n",
    "        bev_grid[y, x] = 1  # Set intensity to 1 when a point exists\n",
    "\n",
    "    # Generate the bird's-eye view image\n",
    "    image = Image.fromarray((bev_grid * 255).astype(np.uint8))\n",
    "\n",
    "    # Mirror the image vertically\n",
    "    mirrored_image = image.transpose(Image.FLIP_TOP_BOTTOM)\n",
    "\n",
    "    # Save the mirrored image as PNG\n",
    "    mirrored_image.save(output_file)\n",
    "\n",
    "    # Get coordinates of the (x=0, y=0) point in the bird's-eye view image\n",
    "    x_bev = int((0 - min_x) / range_x * (grid_size_x - 1))\n",
    "    y_bev = int((0 - min_y) / range_y * (grid_size_y - 1))\n",
    "    pixel_x = -x_bev*resolution\n",
    "    pixel_y = -y_bev*resolution\n",
    "    print(f\"In cost_map.yaml, set: \\norigin: [{pixel_x}, {pixel_y}, 0.0]\")\n"
   ]
  },
  {
   "cell_type": "code",
   "execution_count": 25,
   "metadata": {},
   "outputs": [
    {
     "name": "stdout",
     "output_type": "stream",
     "text": [
      "In cost_map.yaml, set: \n",
      "origin: [-23.8, -7.5, 0.0]\n"
     ]
    }
   ],
   "source": [
    "# Input stl and output png file\n",
    "stl_file = \"stl/05_24_test.stl\"\n",
    "output_file = \"bev_images/5_24_test.png\"\n",
    "# Resolution of the grid in meters\n",
    "resolution = 0.05\n",
    "# Cut off boundary and height window\n",
    "boundary = [-100, 100, -100, 100]\n",
    "height_window = [0.1, 1.0]\n",
    "\n",
    "# Call the function and save the image\n",
    "stl_to_birdseye(stl_file, resolution, output_file, boundary, height_window)"
   ]
  },
  {
   "cell_type": "code",
   "execution_count": null,
   "metadata": {},
   "outputs": [],
   "source": []
  }
 ],
 "metadata": {
  "kernelspec": {
   "display_name": "Python 3",
   "language": "python",
   "name": "python3"
  },
  "language_info": {
   "codemirror_mode": {
    "name": "ipython",
    "version": 3
   },
   "file_extension": ".py",
   "mimetype": "text/x-python",
   "name": "python",
   "nbconvert_exporter": "python",
   "pygments_lexer": "ipython3",
   "version": "3.8.10"
  },
  "orig_nbformat": 4
 },
 "nbformat": 4,
 "nbformat_minor": 2
}
